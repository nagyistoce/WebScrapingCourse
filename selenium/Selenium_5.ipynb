{
 "metadata": {
  "name": "",
  "signature": "sha256:cf217031c0c97ed8699667d5f8c316ffe8d74f184603bcf0c0ef13fe336ccf05"
 },
 "nbformat": 3,
 "nbformat_minor": 0,
 "worksheets": [
  {
   "cells": [
    {
     "cell_type": "code",
     "collapsed": false,
     "input": [
      "from selenium import webdriver\n",
      "from selenium.webdriver.common.keys import Keys\n",
      "\n",
      "# The file below must exist. If not, comment it out and add password manually.\n",
      "# Look at config_skel.py on how to add password\n",
      "from config_bot import *"
     ],
     "language": "python",
     "metadata": {},
     "outputs": [],
     "prompt_number": 21
    },
    {
     "cell_type": "code",
     "collapsed": false,
     "input": [
      "driver = webdriver.Firefox()\n",
      "driver.get(\"http://www.reddit.com/r/Python/\")"
     ],
     "language": "python",
     "metadata": {},
     "outputs": [],
     "prompt_number": 22
    },
    {
     "cell_type": "code",
     "collapsed": false,
     "input": [
      "elem = driver.find_element_by_name(\"user\")\n",
      "elem.send_keys(REDDIT_USERNAME)\n"
     ],
     "language": "python",
     "metadata": {},
     "outputs": [],
     "prompt_number": 23
    },
    {
     "cell_type": "code",
     "collapsed": false,
     "input": [
      "elem = driver.find_element_by_name(\"passwd\")\n",
      "elem.send_keys(REDDIT_PASS)\n"
     ],
     "language": "python",
     "metadata": {},
     "outputs": [],
     "prompt_number": 24
    },
    {
     "cell_type": "code",
     "collapsed": false,
     "input": [
      "button = driver.find_element_by_name(\"rem\")\n",
      "button.click()"
     ],
     "language": "python",
     "metadata": {},
     "outputs": [],
     "prompt_number": 25
    },
    {
     "cell_type": "code",
     "collapsed": false,
     "input": [
      "button = driver.find_element_by_xpath(\"//*[(contains(text(), 'login'))]\")\n",
      "button.click()"
     ],
     "language": "python",
     "metadata": {},
     "outputs": [],
     "prompt_number": 26
    },
    {
     "cell_type": "code",
     "collapsed": false,
     "input": [
      "driver.close()"
     ],
     "language": "python",
     "metadata": {},
     "outputs": [],
     "prompt_number": 27
    },
    {
     "cell_type": "code",
     "collapsed": false,
     "input": [],
     "language": "python",
     "metadata": {},
     "outputs": []
    }
   ],
   "metadata": {}
  }
 ]
}