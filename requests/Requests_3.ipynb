{
 "metadata": {
  "name": "",
  "signature": "sha256:6c3b919dccebda662c94da67035df40d57b398be4cff7836d45436b3f0e88a25"
 },
 "nbformat": 3,
 "nbformat_minor": 0,
 "worksheets": [
  {
   "cells": [
    {
     "cell_type": "code",
     "collapsed": false,
     "input": [
      "import requests\n",
      "from bs4 import BeautifulSoup\n",
      "import re\n",
      "import os"
     ],
     "language": "python",
     "metadata": {},
     "outputs": [],
     "prompt_number": 4
    },
    {
     "cell_type": "code",
     "collapsed": false,
     "input": [
      "r = requests.get(\"http://pythonforengineers.com/pythonforengineersbook/\")\n",
      "data = r.text\n",
      "soup = BeautifulSoup(data)"
     ],
     "language": "python",
     "metadata": {},
     "outputs": [],
     "prompt_number": 5
    },
    {
     "cell_type": "markdown",
     "metadata": {},
     "source": [
      "------------------\n",
      "\n",
      "**A note for this actually running this code**\n",
      "\n",
      "Listen up, folks.\n",
      "\n",
      "After I made the video, my website(based on Wordpress) updated, and suddenly the links changed.\n",
      "\n",
      "Suddenly, the links no longer had *http:* in front of it. I'm assuming, that Wordpress, in it's infinite wisdom, adds it for us.\n",
      "\n",
      "Anyway, so I had to update the code for this change. This is actually good practice for real life, as real websites are updated all the time, and you'll have to update your scripts if you want to keep scraping them.\n",
      "\n",
      "----------------\n"
     ]
    },
    {
     "cell_type": "code",
     "collapsed": false,
     "input": [
      "for link in soup.find_all('img'):\n",
      "    \n",
      "    image = link.get(\"src\")\n",
      "    \n",
      "    # This is the new code I added \n",
      "    if not image.startswith(\"http\"):\n",
      "        image = \"http:\" + image \n",
      "    print image\n",
      "    \n",
      "    try:\n",
      "        r2 = requests.get(image)\n",
      "\n",
      "        basename, filename = os.path.split(image)\n",
      "\n",
      "        with open(filename, \"wb\") as out_file:\n",
      "            out_file.write(r2.content)\n",
      "    except:\n",
      "        pass"
     ],
     "language": "python",
     "metadata": {},
     "outputs": [
      {
       "output_type": "stream",
       "stream": "stdout",
       "text": [
        "http://pythonforengineers.com/wp-content/uploads/2014/07/Python_for_Scientists-small-200x300.jpg\n",
        "http://pythonforengineers.com/wp-content/uploads/2014/07/abba_face_detected-300x277.jpg"
       ]
      },
      {
       "output_type": "stream",
       "stream": "stdout",
       "text": [
        "\n",
        "http://pythonforengineers.com/wp-content/uploads/2014/07/motion2-150x150.jpg"
       ]
      },
      {
       "output_type": "stream",
       "stream": "stdout",
       "text": [
        "\n",
        "http://pythonforengineers.com/wp-content/uploads/2014/07/noisy4.png"
       ]
      },
      {
       "output_type": "stream",
       "stream": "stdout",
       "text": [
        "\n",
        "http://pythonforengineers.com/wp-content/uploads/2014/07/audacity3.jpg"
       ]
      },
      {
       "output_type": "stream",
       "stream": "stdout",
       "text": [
        "\n",
        "http://pythonforengineers.com/wp-content/uploads/2014/07/Marvin_HHGG.jpg"
       ]
      },
      {
       "output_type": "stream",
       "stream": "stdout",
       "text": [
        "\n",
        "http://pythonforengineers.com/wp-content/uploads/2014/07/300px-RaspberryPi.jpg"
       ]
      },
      {
       "output_type": "stream",
       "stream": "stdout",
       "text": [
        "\n",
        "http://pythonforengineers.com/wp-content/uploads/2014/07/rpi.jpg"
       ]
      },
      {
       "output_type": "stream",
       "stream": "stdout",
       "text": [
        "\n",
        "http://in.getclicky.com/100746374ns.gif"
       ]
      },
      {
       "output_type": "stream",
       "stream": "stdout",
       "text": [
        "\n"
       ]
      }
     ],
     "prompt_number": 6
    },
    {
     "cell_type": "code",
     "collapsed": false,
     "input": [],
     "language": "python",
     "metadata": {},
     "outputs": [],
     "prompt_number": 6
    }
   ],
   "metadata": {}
  }
 ]
}