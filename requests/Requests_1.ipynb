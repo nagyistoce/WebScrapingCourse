{
 "metadata": {
  "name": "",
  "signature": "sha256:b0074969d7a0ebba51c4e22e428e6ba32dfd8a0b13922e9336fc50cd4ef0646c"
 },
 "nbformat": 3,
 "nbformat_minor": 0,
 "worksheets": [
  {
   "cells": [
    {
     "cell_type": "code",
     "collapsed": false,
     "input": [
      "import requests\n",
      "from bs4 import BeautifulSoup"
     ],
     "language": "python",
     "metadata": {},
     "outputs": [],
     "prompt_number": 4
    },
    {
     "cell_type": "code",
     "collapsed": false,
     "input": [
      "r = requests.get(\"http://pythonforengineers.com/pythonforengineersbook/\")\n",
      "data = r.text\n",
      "soup = BeautifulSoup(data)"
     ],
     "language": "python",
     "metadata": {},
     "outputs": [],
     "prompt_number": 5
    },
    {
     "cell_type": "code",
     "collapsed": false,
     "input": [
      "print r.text"
     ],
     "language": "python",
     "metadata": {},
     "outputs": []
    },
    {
     "cell_type": "markdown",
     "metadata": {},
     "source": [
      "Print just the paragraph elements of the page:"
     ]
    },
    {
     "cell_type": "code",
     "collapsed": false,
     "input": [
      "print soup('p')"
     ],
     "language": "python",
     "metadata": {},
     "outputs": [
      {
       "output_type": "stream",
       "stream": "stdout",
       "text": [
        "[<p>\u00a0</p>, <p><a class=\"grouped_elements\" href=\"http://pythonforengineers.com/wp-content/uploads/2014/07/Python_for_Scientists-small.jpg\" rel=\"tc-fancybox-group56\"><img alt=\"Python_for_Scientists small\" class=\"alignleft wp-image-298 size-medium\" height=\"300\" src=\"//pythonforengineers.com/wp-content/uploads/2014/07/Python_for_Scientists-small-200x300.jpg\" width=\"200\"/></a></p>, <p>\u00a0</p>, <p>The Python for Scientists and Engineers course,\u00a0 based on my highly successful <a href=\"https://www.kickstarter.com/projects/513736598/python-for-science-and-engineering\">Kickstarter</a>, seeks to teach you advanced Python by building awesome projects.</p>, <p><strong>Practice, not theory</strong></p>, <p>The course will be heavily practical, with little or no theory. The goal is to get you using Python for real world engineering applications. For each topic, we will choose a real case scenario and build a quick solution in Python to solve our problem.</p>, <p>These are the topics we will cover:</p>, <p><strong>Introduction to Python</strong></p>, <p>I will cover the basics of the Python, specifically for the programmers wanting to use Python for engineering.This will be a quick introduction to Python for people who know at least one other programming language.</p>, <p><strong>Image and Video processing</strong></p>, <p><a class=\"grouped_elements\" href=\"http://pythonforengineers.com/wp-content/uploads/2014/07/abba_face_detected.jpg\" rel=\"tc-fancybox-group56\"><img alt=\"abba_face_detected\" class=\"aligncenter wp-image-10 \" height=\"319\" src=\"//pythonforengineers.com/wp-content/uploads/2014/07/abba_face_detected-300x277.jpg\" width=\"345\"/></a></p>, <p><a class=\"grouped_elements\" href=\"http://pythonforengineers.com/wp-content/uploads/2014/07/motion2.jpg\" rel=\"tc-fancybox-group56\"><img alt=\"motion2\" class=\"aligncenter wp-image-135 size-thumbnail\" height=\"150\" src=\"//pythonforengineers.com/wp-content/uploads/2014/07/motion2-150x150.jpg\" width=\"150\"/></a></p>, <p>\u00a0</p>, <p><strong>Audio</strong></p>, <p>Create a sine wave, find its frequency, simple filtering</p>, <p><a class=\"grouped_elements\" href=\"http://pythonforengineers.com/wp-content/uploads/2014/07/noisy4.png\" rel=\"tc-fancybox-group56\"><img alt=\"noisy4\" class=\"aligncenter wp-image-136 \" height=\"407\" src=\"//pythonforengineers.com/wp-content/uploads/2014/07/noisy4.png\" width=\"545\"/></a></p>, <p><strong>Analysis and plotting with Numpy, Scipy and Matplotlib</strong></p>, <p>Learn how to work with and graph scientific data</p>, <p>\u00a0</p>, <p><img alt=\"audacity3\" class=\"aligncenter wp-image-16\" height=\"299\" src=\"//pythonforengineers.com/wp-content/uploads/2014/07/audacity3.jpg\" width=\"715\"/></p>, <p>\u00a0</p>, <p><strong>Machine Learning</strong></p>, <p>Build an Amazon like recommendation engine in Python.</p>, <p><a class=\"grouped_elements\" href=\"http://pythonforengineers.com/wp-content/uploads/2014/07/Marvin_HHGG.jpg\" rel=\"tc-fancybox-group56\"><img alt=\"Marvin_(HHGG)\" class=\"aligncenter wp-image-17\" height=\"302\" src=\"//pythonforengineers.com/wp-content/uploads/2014/07/Marvin_HHGG.jpg\" width=\"184\"/></a></p>, <p>\u00a0</p>, <p><strong>Statistics and data manipulation</strong></p>, <p>The Python pandas library is Python\u2019s answer to R, and used extensively in financial analysis.</p>, <p>\u00a0</p>, <p><strong>Turn your Raspberry Pi into a web server<br/>\n",
        "</strong></p>, <p><a class=\"grouped_elements\" href=\"http://pythonforengineers.com/wp-content/uploads/2014/07/300px-RaspberryPi.jpg\" rel=\"tc-fancybox-group56\"><img alt=\"300px-RaspberryPi\" class=\"aligncenter size-full wp-image-36\" height=\"200\" src=\"//pythonforengineers.com/wp-content/uploads/2014/07/300px-RaspberryPi.jpg\" width=\"300\"/></a></p>, <p>Learn how to control your Pi via a web browser, using your laptop or even iPad:</p>, <p><a class=\"grouped_elements\" href=\"http://pythonforengineers.com/wp-content/uploads/2014/07/rpi.jpg\" rel=\"tc-fancybox-group56\"><img alt=\"rpi\" class=\"aligncenter wp-image-138 \" height=\"443\" src=\"//pythonforengineers.com/wp-content/uploads/2014/07/rpi.jpg\" width=\"635\"/></a></p>, <p>\u00a0</p>, <p><strong>Buy now: </strong><em><br/>\n",
        "</em></p>, <p>These options are for individuals. Teams, please contact me.</p>, <p><strong>Option 1.</strong> Get the book, all the code, plus a Virtual Machine to run the examples.</p>, <p>Price: $39<strong><br/>\n",
        "</strong></p>, <p><strong>Option 2:</strong> Get the above, plus videos of all the courses.</p>, <p>Price: $99</p>, <p><strong>Available </strong>on <a href=\"https://leanpub.com/pythonforengineers\">LeanPub</a>.</p>, <p>Want to pay by Paypal? Contact me.</p>, <p><strong>FAQ</strong></p>, <p><em>1. What\u2019s this Virtual Machine I will get?</em></p>, <p>The biggest hassle with projects like these is installing libraries, struggling with version differences, 32/64 bit versions of libraries, etc. You can spend more time installing libraries than running the code. For this reason, I will create a Virtual Machine and do most of the testing there. You can have this VM too. It means you can start coding immediately, without wasting any time installing libraries.</p>, <p class=\"comment-notes\"><span id=\"email-notes\">Your email address will not be published.</span> Required fields are marked <span class=\"required\">*</span></p>, <p class=\"comment-form-author\"><label for=\"author\">Name <span class=\"required\">*</span></label> <input aria-required=\"true\" id=\"author\" name=\"author\" size=\"30\" type=\"text\" value=\"\"/></p>, <p class=\"comment-form-email\"><label for=\"email\">Email <span class=\"required\">*</span></label> <input aria-describedby=\"email-notes\" aria-required=\"true\" id=\"email\" name=\"email\" size=\"30\" type=\"text\" value=\"\"/></p>, <p class=\"comment-form-url\"><label for=\"url\">Website</label> <input id=\"url\" name=\"url\" size=\"30\" type=\"text\" value=\"\"/></p>, <p class=\"comment-form-comment\"><label for=\"comment\">Comment</label> <textarea aria-describedby=\"form-allowed-tags\" aria-required=\"true\" cols=\"45\" id=\"comment\" name=\"comment\" rows=\"8\"></textarea></p>, <p class=\"form-allowed-tags\" id=\"form-allowed-tags\">You may use these <abbr title=\"HyperText Markup Language\">HTML</abbr> tags and attributes:  <code>&lt;a href=\"\" title=\"\"&gt; &lt;abbr title=\"\"&gt; &lt;acronym title=\"\"&gt; &lt;b&gt; &lt;blockquote cite=\"\"&gt; &lt;cite&gt; &lt;code&gt; &lt;del datetime=\"\"&gt; &lt;em&gt; &lt;i&gt; &lt;q cite=\"\"&gt; &lt;strike&gt; &lt;strong&gt; </code></p>, <p class=\"form-submit\">\n",
        "<input class=\"submit\" id=\"submit\" name=\"submit\" type=\"submit\" value=\"Post Comment\"/>\n",
        "<input id=\"comment_post_ID\" name=\"comment_post_ID\" type=\"hidden\" value=\"56\"/>\n",
        "<input id=\"comment_parent\" name=\"comment_parent\" type=\"hidden\" value=\"0\"/>\n",
        "</p>, <p style=\"display: none;\"><input id=\"akismet_comment_nonce\" name=\"akismet_comment_nonce\" type=\"hidden\" value=\"debb71cef4\"/></p>, <p style=\"display: none;\"><input id=\"ak_js\" name=\"ak_js\" type=\"hidden\" value=\"242\"/></p>, <p>\u00b7 \u00a9 2015 <a href=\"http://pythonforengineers.com\" rel=\"bookmark\" title=\"Python For Engineers\">Python For Engineers</a> \u00b7 Designed by <a href=\"http://themesandco.com/\">Themes &amp; Co</a> \u00b7</p>, <p class=\"pull-right\"><a class=\"back-to-top\" href=\"#\">Back to top</a></p>, <p><img alt=\"Clicky\" height=\"1\" src=\"//in.getclicky.com/100746374ns.gif\" width=\"1\"/></p>]\n"
       ]
      }
     ],
     "prompt_number": 10
    },
    {
     "cell_type": "markdown",
     "metadata": {},
     "source": [
      "Print the image elements of the page:"
     ]
    },
    {
     "cell_type": "code",
     "collapsed": false,
     "input": [
      "print soup('img')"
     ],
     "language": "python",
     "metadata": {},
     "outputs": [
      {
       "output_type": "stream",
       "stream": "stdout",
       "text": [
        "[<img alt=\"Python_for_Scientists small\" class=\"alignleft wp-image-298 size-medium\" height=\"300\" src=\"//pythonforengineers.com/wp-content/uploads/2014/07/Python_for_Scientists-small-200x300.jpg\" width=\"200\"/>, <img alt=\"abba_face_detected\" class=\"aligncenter wp-image-10 \" height=\"319\" src=\"//pythonforengineers.com/wp-content/uploads/2014/07/abba_face_detected-300x277.jpg\" width=\"345\"/>, <img alt=\"motion2\" class=\"aligncenter wp-image-135 size-thumbnail\" height=\"150\" src=\"//pythonforengineers.com/wp-content/uploads/2014/07/motion2-150x150.jpg\" width=\"150\"/>, <img alt=\"noisy4\" class=\"aligncenter wp-image-136 \" height=\"407\" src=\"//pythonforengineers.com/wp-content/uploads/2014/07/noisy4.png\" width=\"545\"/>, <img alt=\"audacity3\" class=\"aligncenter wp-image-16\" height=\"299\" src=\"//pythonforengineers.com/wp-content/uploads/2014/07/audacity3.jpg\" width=\"715\"/>, <img alt=\"Marvin_(HHGG)\" class=\"aligncenter wp-image-17\" height=\"302\" src=\"//pythonforengineers.com/wp-content/uploads/2014/07/Marvin_HHGG.jpg\" width=\"184\"/>, <img alt=\"300px-RaspberryPi\" class=\"aligncenter size-full wp-image-36\" height=\"200\" src=\"//pythonforengineers.com/wp-content/uploads/2014/07/300px-RaspberryPi.jpg\" width=\"300\"/>, <img alt=\"rpi\" class=\"aligncenter wp-image-138 \" height=\"443\" src=\"//pythonforengineers.com/wp-content/uploads/2014/07/rpi.jpg\" width=\"635\"/>, <img alt=\"Clicky\" height=\"1\" src=\"//in.getclicky.com/100746374ns.gif\" width=\"1\"/>]\n"
       ]
      }
     ],
     "prompt_number": 8
    },
    {
     "cell_type": "code",
     "collapsed": false,
     "input": [
      "for link in soup.find_all('a'):\n",
      "    print link"
     ],
     "language": "python",
     "metadata": {},
     "outputs": [
      {
       "output_type": "stream",
       "stream": "stdout",
       "text": [
        "<a class=\"site-title\" href=\"http://pythonforengineers.com/\" title=\"Python For Engineers | \">Python For Engineers</a>\n",
        "<a href=\"http://pythonforengineers.com/pythonforengineersbook/\">Home</a>\n",
        "<a href=\"http://pythonforengineers.com/articles/\">Articles</a>\n",
        "<a href=\"http://pythonforengineers.com/contact/\">Contact</a>\n",
        "<a href=\"http://pythonforengineers.com/forum/pyengbook/\">Forum</a>\n",
        "<a class=\"trail-begin\" href=\"http://pythonforengineers.com\" rel=\"home\" title=\"Python For Engineers\">Home</a>\n",
        "<a class=\"grouped_elements\" href=\"http://pythonforengineers.com/wp-content/uploads/2014/07/Python_for_Scientists-small.jpg\" rel=\"tc-fancybox-group56\"><img alt=\"Python_for_Scientists small\" class=\"alignleft wp-image-298 size-medium\" height=\"300\" src=\"//pythonforengineers.com/wp-content/uploads/2014/07/Python_for_Scientists-small-200x300.jpg\" width=\"200\"/></a>\n",
        "<a href=\"https://www.kickstarter.com/projects/513736598/python-for-science-and-engineering\">Kickstarter</a>\n",
        "<a class=\"grouped_elements\" href=\"http://pythonforengineers.com/wp-content/uploads/2014/07/abba_face_detected.jpg\" rel=\"tc-fancybox-group56\"><img alt=\"abba_face_detected\" class=\"aligncenter wp-image-10 \" height=\"319\" src=\"//pythonforengineers.com/wp-content/uploads/2014/07/abba_face_detected-300x277.jpg\" width=\"345\"/></a>\n",
        "<a class=\"grouped_elements\" href=\"http://pythonforengineers.com/wp-content/uploads/2014/07/motion2.jpg\" rel=\"tc-fancybox-group56\"><img alt=\"motion2\" class=\"aligncenter wp-image-135 size-thumbnail\" height=\"150\" src=\"//pythonforengineers.com/wp-content/uploads/2014/07/motion2-150x150.jpg\" width=\"150\"/></a>\n",
        "<a class=\"grouped_elements\" href=\"http://pythonforengineers.com/wp-content/uploads/2014/07/noisy4.png\" rel=\"tc-fancybox-group56\"><img alt=\"noisy4\" class=\"aligncenter wp-image-136 \" height=\"407\" src=\"//pythonforengineers.com/wp-content/uploads/2014/07/noisy4.png\" width=\"545\"/></a>\n",
        "<a class=\"grouped_elements\" href=\"http://pythonforengineers.com/wp-content/uploads/2014/07/Marvin_HHGG.jpg\" rel=\"tc-fancybox-group56\"><img alt=\"Marvin_(HHGG)\" class=\"aligncenter wp-image-17\" height=\"302\" src=\"//pythonforengineers.com/wp-content/uploads/2014/07/Marvin_HHGG.jpg\" width=\"184\"/></a>\n",
        "<a class=\"grouped_elements\" href=\"http://pythonforengineers.com/wp-content/uploads/2014/07/300px-RaspberryPi.jpg\" rel=\"tc-fancybox-group56\"><img alt=\"300px-RaspberryPi\" class=\"aligncenter size-full wp-image-36\" height=\"200\" src=\"//pythonforengineers.com/wp-content/uploads/2014/07/300px-RaspberryPi.jpg\" width=\"300\"/></a>\n",
        "<a class=\"grouped_elements\" href=\"http://pythonforengineers.com/wp-content/uploads/2014/07/rpi.jpg\" rel=\"tc-fancybox-group56\"><img alt=\"rpi\" class=\"aligncenter wp-image-138 \" height=\"443\" src=\"//pythonforengineers.com/wp-content/uploads/2014/07/rpi.jpg\" width=\"635\"/></a>\n",
        "<a href=\"https://leanpub.com/pythonforengineers\">LeanPub</a>\n",
        "<a href=\"/pythonforengineersbook/#respond\" id=\"cancel-comment-reply-link\" rel=\"nofollow\" style=\"display:none;\">Cancel reply</a>\n",
        "<a class=\"social-icon icon-feed\" href=\"http://pythonforengineers.com/feed/rss/\" title=\"Subscribe to my rss feed\"></a>\n",
        "<a href=\"http://pythonforengineers.com\" rel=\"bookmark\" title=\"Python For Engineers\">Python For Engineers</a>\n",
        "<a href=\"http://themesandco.com/\">Themes &amp; Co</a>\n",
        "<a class=\"back-to-top\" href=\"#\">Back to top</a>\n"
       ]
      }
     ],
     "prompt_number": 9
    },
    {
     "cell_type": "code",
     "collapsed": false,
     "input": [
      "for link in soup.find_all('a'):\n",
      "    print link.get('href')"
     ],
     "language": "python",
     "metadata": {},
     "outputs": [
      {
       "output_type": "stream",
       "stream": "stdout",
       "text": [
        "http://pythonforengineers.com/\n",
        "http://pythonforengineers.com/pythonforengineersbook/\n",
        "http://pythonforengineers.com/articles/\n",
        "http://pythonforengineers.com/contact/\n",
        "http://pythonforengineers.com/forum/pyengbook/\n",
        "http://pythonforengineers.com\n",
        "http://pythonforengineers.com/wp-content/uploads/2014/07/Python_for_Scientists-small.jpg\n",
        "https://www.kickstarter.com/projects/513736598/python-for-science-and-engineering\n",
        "http://pythonforengineers.com/wp-content/uploads/2014/07/abba_face_detected.jpg\n",
        "http://pythonforengineers.com/wp-content/uploads/2014/07/motion2.jpg\n",
        "http://pythonforengineers.com/wp-content/uploads/2014/07/noisy4.png\n",
        "http://pythonforengineers.com/wp-content/uploads/2014/07/Marvin_HHGG.jpg\n",
        "http://pythonforengineers.com/wp-content/uploads/2014/07/300px-RaspberryPi.jpg\n",
        "http://pythonforengineers.com/wp-content/uploads/2014/07/rpi.jpg\n",
        "https://leanpub.com/pythonforengineers\n",
        "/pythonforengineersbook/#respond\n",
        "http://pythonforengineers.com/feed/rss/\n",
        "http://pythonforengineers.com\n",
        "http://themesandco.com/\n",
        "#\n"
       ]
      }
     ],
     "prompt_number": 7
    },
    {
     "cell_type": "code",
     "collapsed": false,
     "input": [],
     "language": "python",
     "metadata": {},
     "outputs": [],
     "prompt_number": 7
    }
   ],
   "metadata": {}
  }
 ]
}