{
 "metadata": {
  "name": "",
  "signature": "sha256:cdbefbf73fb25f827404e5d0812d88dad01293c0ac6fd185e4cef95a74c34d0a"
 },
 "nbformat": 3,
 "nbformat_minor": 0,
 "worksheets": [
  {
   "cells": [
    {
     "cell_type": "heading",
     "level": 1,
     "metadata": {},
     "source": [
      "Some legal / non-technical stuff when doing scraping"
     ]
    },
    {
     "cell_type": "markdown",
     "metadata": {},
     "source": [
      "I AM NOT A LAWYER. This does not constitute legal advice."
     ]
    },
    {
     "cell_type": "markdown",
     "metadata": {},
     "source": [
      "As I mentioned right at the start, scraping is *slightly* controversial"
     ]
    },
    {
     "cell_type": "markdown",
     "metadata": {},
     "source": [
      "Legal battles have been fought, companies sued."
     ]
    },
    {
     "cell_type": "markdown",
     "metadata": {},
     "source": [
      "With great power comes great responibility! *Ahem. Someone call the Cliche Police*"
     ]
    },
    {
     "cell_type": "markdown",
     "metadata": {},
     "source": [
      "**Always follow the TOC**"
     ]
    },
    {
     "cell_type": "markdown",
     "metadata": {},
     "source": [
      "Avoid scraping huge companies like Google, Facebook, Twitter etc. They will ban you. The big guys will usually provide APIs. Use those."
     ]
    },
    {
     "cell_type": "markdown",
     "metadata": {},
     "source": [
      "These APIs maybe:\n",
      "    * Free, like Reddit\n",
      "    * Free but require registration, like Twitter\n",
      "    * Free only for limited use. Google\n",
      "    \n",
      "But still cheaper than lawsuits. Pay a few dollars to save the hassle."
     ]
    },
    {
     "cell_type": "markdown",
     "metadata": {},
     "source": [
      "http://en.wikipedia.org/wiki/Web_scraping#Legal_issues"
     ]
    },
    {
     "cell_type": "markdown",
     "metadata": {},
     "source": [
      "If you challege a company's business directly, they **will** sue.\n",
      "\n",
      "http://en.wikipedia.org/wiki/EBay_v._Bidder%27s_Edge\n"
     ]
    },
    {
     "cell_type": "markdown",
     "metadata": {},
     "source": [
      "Even otherwise, act polite.\n",
      "\n",
      "A robot can send a million requests a minute, and crash the server.\n",
      "\n",
      "Don't send a million requests  second. Put sleeps in, run scrapers once a day, preferebbly at night.\n",
      "\n",
      "Ask yourself this: How would **I feel** if someone did this to my website and crashed it?"
     ]
    },
    {
     "cell_type": "markdown",
     "metadata": {},
     "source": [
      "Finally, do you need to do scraping?\n",
      "\n",
      "A quick 5 min Googling tells me there are many companies that will scrape for you. Will it be cheaper / easier to use them? Eg,\n",
      "\n",
      "https://www.kimonolabs.com/\n",
      "\n",
      "\n",
      "https://import.io/\n"
     ]
    },
    {
     "cell_type": "code",
     "collapsed": false,
     "input": [],
     "language": "python",
     "metadata": {},
     "outputs": []
    }
   ],
   "metadata": {}
  }
 ]
}