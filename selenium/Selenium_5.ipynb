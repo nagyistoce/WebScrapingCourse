{
 "metadata": {
  "name": "",
  "signature": "sha256:553c2c28183f2c35ef251285545131820d992e6551ef2ee1d61bce7fefaf5cf7"
 },
 "nbformat": 3,
 "nbformat_minor": 0,
 "worksheets": [
  {
   "cells": [
    {
     "cell_type": "code",
     "collapsed": false,
     "input": [
      "from selenium import webdriver\n",
      "from selenium.webdriver.common.keys import Keys\n",
      "\n",
      "try:\n",
      "    # The file below must exist. If not, comment it out and add password manually.\n",
      "    # Look at config_skel.py on how to add password\n",
      "    from config_bot import *\n",
      "except:\n",
      "    print \"File config_bot.py doesnt exist. Either create it based on config_skel.py, or comment above line and enter password manually\""
     ],
     "language": "python",
     "metadata": {},
     "outputs": [],
     "prompt_number": 4
    },
    {
     "cell_type": "code",
     "collapsed": false,
     "input": [
      "driver = webdriver.Firefox()\n",
      "driver.get(\"http://www.reddit.com/r/Python/\")"
     ],
     "language": "python",
     "metadata": {},
     "outputs": [],
     "prompt_number": 5
    },
    {
     "cell_type": "code",
     "collapsed": false,
     "input": [
      "elem = driver.find_element_by_name(\"user\")\n",
      "elem.send_keys(REDDIT_USERNAME)\n"
     ],
     "language": "python",
     "metadata": {},
     "outputs": [],
     "prompt_number": 6
    },
    {
     "cell_type": "code",
     "collapsed": false,
     "input": [
      "elem = driver.find_element_by_name(\"passwd\")\n",
      "elem.send_keys(REDDIT_PASS)\n"
     ],
     "language": "python",
     "metadata": {},
     "outputs": [],
     "prompt_number": 7
    },
    {
     "cell_type": "code",
     "collapsed": false,
     "input": [
      "button = driver.find_element_by_name(\"rem\")\n",
      "button.click()"
     ],
     "language": "python",
     "metadata": {},
     "outputs": [],
     "prompt_number": 8
    },
    {
     "cell_type": "code",
     "collapsed": false,
     "input": [
      "button = driver.find_element_by_xpath(\"//*[(contains(text(), 'login'))]\")\n",
      "button.click()"
     ],
     "language": "python",
     "metadata": {},
     "outputs": [],
     "prompt_number": 9
    },
    {
     "cell_type": "code",
     "collapsed": false,
     "input": [
      "driver.close()"
     ],
     "language": "python",
     "metadata": {},
     "outputs": [],
     "prompt_number": 10
    },
    {
     "cell_type": "code",
     "collapsed": false,
     "input": [],
     "language": "python",
     "metadata": {},
     "outputs": [],
     "prompt_number": 10
    }
   ],
   "metadata": {}
  }
 ]
}