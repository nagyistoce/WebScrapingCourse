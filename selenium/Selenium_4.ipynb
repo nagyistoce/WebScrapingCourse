{
 "metadata": {
  "name": "",
  "signature": "sha256:3db1aaf1b28661fb705fff9ddd463d0a4cf7204e2ee60ce20a202403567c0cdc"
 },
 "nbformat": 3,
 "nbformat_minor": 0,
 "worksheets": [
  {
   "cells": [
    {
     "cell_type": "code",
     "collapsed": false,
     "input": [
      "from selenium import webdriver\n",
      "from selenium.webdriver.common.keys import Keys"
     ],
     "language": "python",
     "metadata": {},
     "outputs": [],
     "prompt_number": 1
    },
    {
     "cell_type": "code",
     "collapsed": false,
     "input": [
      "def get_code(driver):\n",
      "    '''\n",
      "    Function to get the code from pre blocks, and write to a file\n",
      "    '''\n",
      "    \n",
      "    code = \"\"\n",
      "    \n",
      "    for code_block in driver.find_elements_by_tag_name(\"pre\"):\n",
      "        code += code_block.text\n",
      "    \n",
      "    with open(\"code.txt\", \"a\") as f:\n",
      "        f.write(code)\n",
      "    "
     ],
     "language": "python",
     "metadata": {},
     "outputs": [],
     "prompt_number": 2
    },
    {
     "cell_type": "code",
     "collapsed": false,
     "input": [
      "driver = webdriver.Firefox()"
     ],
     "language": "python",
     "metadata": {},
     "outputs": [],
     "prompt_number": 3
    },
    {
     "cell_type": "code",
     "collapsed": false,
     "input": [
      "driver.get(\"http://pythonforengineers.com/articles/\")"
     ],
     "language": "python",
     "metadata": {},
     "outputs": [],
     "prompt_number": 4
    },
    {
     "cell_type": "code",
     "collapsed": false,
     "input": [
      "elem = driver.find_element_by_name(\"s\")"
     ],
     "language": "python",
     "metadata": {},
     "outputs": [],
     "prompt_number": 5
    },
    {
     "cell_type": "markdown",
     "metadata": {},
     "source": [
      "**Note**: A minor change below: I added more blogs on reddit, and the current blog slipped off the 1st page.\n",
      "\n",
      "Now, could have just clicked the second page of the search, but that would have required extensive changes.\n",
      "\n",
      "So I'm just changing the search term from *reddit* to *build reddit*.\n"
     ]
    },
    {
     "cell_type": "code",
     "collapsed": false,
     "input": [
      "elem.send_keys(\"build reddit\")"
     ],
     "language": "python",
     "metadata": {},
     "outputs": [],
     "prompt_number": 6
    },
    {
     "cell_type": "code",
     "collapsed": false,
     "input": [
      "elem.send_keys(Keys.RETURN)"
     ],
     "language": "python",
     "metadata": {},
     "outputs": [],
     "prompt_number": 7
    },
    {
     "cell_type": "code",
     "collapsed": false,
     "input": [
      "link = driver.find_element_by_link_text(\"Build a Reddit Bot Part 1\")"
     ],
     "language": "python",
     "metadata": {},
     "outputs": [],
     "prompt_number": 8
    },
    {
     "cell_type": "code",
     "collapsed": false,
     "input": [
      "link.click()"
     ],
     "language": "python",
     "metadata": {},
     "outputs": [],
     "prompt_number": 9
    },
    {
     "cell_type": "code",
     "collapsed": false,
     "input": [
      "get_code(driver)"
     ],
     "language": "python",
     "metadata": {},
     "outputs": [],
     "prompt_number": 10
    },
    {
     "cell_type": "code",
     "collapsed": false,
     "input": [
      "while True:\n",
      "    try:\n",
      "        link = driver.find_element_by_link_text(\"Next Part\")\n",
      "        link.click()\n",
      "        get_code(driver)\n",
      "    except:\n",
      "        break"
     ],
     "language": "python",
     "metadata": {},
     "outputs": [],
     "prompt_number": 11
    },
    {
     "cell_type": "code",
     "collapsed": false,
     "input": [
      "driver.close()"
     ],
     "language": "python",
     "metadata": {},
     "outputs": [],
     "prompt_number": 12
    },
    {
     "cell_type": "code",
     "collapsed": false,
     "input": [],
     "language": "python",
     "metadata": {},
     "outputs": [],
     "prompt_number": 12
    }
   ],
   "metadata": {}
  }
 ]
}